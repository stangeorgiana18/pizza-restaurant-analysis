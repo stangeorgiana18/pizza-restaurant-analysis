{
 "cells": [
  {
   "cell_type": "markdown",
   "id": "2ea63f23",
   "metadata": {
    "papermill": {
     "duration": 0.012091,
     "end_time": "2024-04-08T21:01:57.191708",
     "exception": false,
     "start_time": "2024-04-08T21:01:57.179617",
     "status": "completed"
    },
    "tags": []
   },
   "source": [
    "# Analysis of Pizza Restaurant "
   ]
  },
  {
   "cell_type": "code",
   "execution_count": 1,
   "id": "6a494d52",
   "metadata": {
    "_cell_guid": "b1076dfc-b9ad-4769-8c92-a6c4dae69d19",
    "_uuid": "8f2839f25d086af736a60e9eeb907d3b93b6e0e5",
    "execution": {
     "iopub.execute_input": "2024-04-08T21:01:57.217700Z",
     "iopub.status.busy": "2024-04-08T21:01:57.217034Z",
     "iopub.status.idle": "2024-04-08T21:02:06.307749Z",
     "shell.execute_reply": "2024-04-08T21:02:06.305785Z"
    },
    "papermill": {
     "duration": 9.107507,
     "end_time": "2024-04-08T21:02:06.311203",
     "exception": false,
     "start_time": "2024-04-08T21:01:57.203696",
     "status": "completed"
    },
    "tags": []
   },
   "outputs": [
    {
     "name": "stdout",
     "output_type": "stream",
     "text": [
      "Sheets in the excel file:  dict_keys(['data_dictionary', 'pizza_types', 'pizzas', 'order_details', 'orders'])\n"
     ]
    }
   ],
   "source": [
    "import numpy as np # linear algebra\n",
    "import pandas as pd # data processing, CS\n",
    "\n",
    "file_path = '../input/luigis-pizza-restaurant/data.xlsx'\n",
    "sheets = pd.read_excel(file_path, sheet_name = None)\n",
    "\n",
    "print('Sheets in the excel file: ', sheets.keys())"
   ]
  },
  {
   "cell_type": "code",
   "execution_count": 2,
   "id": "702a9406",
   "metadata": {
    "execution": {
     "iopub.execute_input": "2024-04-08T21:02:06.339516Z",
     "iopub.status.busy": "2024-04-08T21:02:06.338376Z",
     "iopub.status.idle": "2024-04-08T21:02:06.375140Z",
     "shell.execute_reply": "2024-04-08T21:02:06.373759Z"
    },
    "papermill": {
     "duration": 0.055472,
     "end_time": "2024-04-08T21:02:06.379091",
     "exception": false,
     "start_time": "2024-04-08T21:02:06.323619",
     "status": "completed"
    },
    "tags": []
   },
   "outputs": [
    {
     "name": "stdout",
     "output_type": "stream",
     "text": [
      "SUMMARY:  {'data_dictionary':            Table             Field  \\\n",
      "0         orders          order_id   \n",
      "1         orders              date   \n",
      "2         orders              time   \n",
      "3  order_details  order_details_id   \n",
      "4  order_details          order_id   \n",
      "\n",
      "                                         Description  \n",
      "0  Unique identifier for each order placed by a t...  \n",
      "1  Date the order was placed (entered into the sy...  \n",
      "2  Time the order was placed (entered into the sy...  \n",
      "3  Unique identifier for each pizza placed within...  \n",
      "4  Foreign key that ties the details in each orde...  , 'pizza_types':   pizza_type_id                          name category  \\\n",
      "0       bbq_ckn    The Barbecue Chicken Pizza  Chicken   \n",
      "1      cali_ckn  The California Chicken Pizza  Chicken   \n",
      "2   ckn_alfredo     The Chicken Alfredo Pizza  Chicken   \n",
      "3     ckn_pesto       The Chicken Pesto Pizza  Chicken   \n",
      "4    southw_ckn   The Southwest Chicken Pizza  Chicken   \n",
      "\n",
      "                                         ingredients  \n",
      "0  Barbecued Chicken, Red Peppers, Green Peppers,...  \n",
      "1  Chicken, Artichoke, Spinach, Garlic, Jalapeno ...  \n",
      "2  Chicken, Red Onions, Red Peppers, mushrooms, A...  \n",
      "3  Chicken, Tomatoes, Red Peppers; Spinach, Garli...  \n",
      "4  Chicken, Tomatoes, Red Peppers, red onions, Ja...  , 'pizzas':      pizza_id pizza_type_id size  price  Unnamed: 4\n",
      "0   bbq_ckn_s       bbq_ckn    S  12.75         NaN\n",
      "1   bbq_ckn_m       bbq_ckn    M  16.75         NaN\n",
      "2   bbq_ckn_l       bbq_ckn    L  20.75         NaN\n",
      "3  cali_ckn_s      cali_ckn    S  12.75         NaN\n",
      "4  cali_ckn_m      cali_ckn    M  16.75         NaN, 'order_details':    order_details_id  order_id       pizza_id  quantity\n",
      "0                 1         1     hawaiian_m         1\n",
      "1                 2         2  classic_dlx_m         1\n",
      "2                 3         2  five_cheese_l         1\n",
      "3                 4         2    ital_supr_l         1\n",
      "4                 5         2     mexicana_m         1, 'orders':    order_id       date      time\n",
      "0         1 2015-01-01  11:38:36\n",
      "1         2 2015-01-01  11:57:40\n",
      "2         3 2015-01-01  12:12:28\n",
      "3         4 2015-01-01  12:16:31\n",
      "4         5 2015-01-01  12:21:30}\n"
     ]
    }
   ],
   "source": [
    "# inspect each sheet\n",
    "data_dictionary = sheets['data_dictionary']\n",
    "pizza_types = sheets['pizza_types']\n",
    "pizzas = sheets['pizzas']\n",
    "order_details = sheets['order_details']\n",
    "orders = sheets['orders']\n",
    "\n",
    "# summarise each sheet\n",
    "summary = {\n",
    "    \"data_dictionary\": data_dictionary.head(),\n",
    "    \"pizza_types\": pizza_types.head(),\n",
    "    \"pizzas\": pizzas.head(),\n",
    "    \"order_details\": order_details.head(),\n",
    "    \"orders\": orders.head(),\n",
    "}\n",
    "\n",
    "print('SUMMARY: ', summary)"
   ]
  },
  {
   "cell_type": "markdown",
   "id": "46dc039d",
   "metadata": {
    "papermill": {
     "duration": 0.012083,
     "end_time": "2024-04-08T21:02:06.405218",
     "exception": false,
     "start_time": "2024-04-08T21:02:06.393135",
     "status": "completed"
    },
    "tags": []
   },
   "source": [
    "* Given the structure of the .xlsx file, the entity-relationship model can be drawn considering these entities and relationships: pizzas, pizza_types, orders, order_details:"
   ]
  },
  {
   "cell_type": "markdown",
   "id": "6fec58c0",
   "metadata": {
    "papermill": {
     "duration": 0.011993,
     "end_time": "2024-04-08T21:02:06.429463",
     "exception": false,
     "start_time": "2024-04-08T21:02:06.417470",
     "status": "completed"
    },
    "tags": []
   },
   "source": [
    "| **orders**         | **order_details**   | **pizzas**         | **pizza_types**     |\n",
    "|--------------------|---------------------|--------------------|---------------------|\n",
    "| order_id           | order_detail_id     | pizza_id           | pizza_type_id       |\n",
    "| date               | order_id            | pizza_type_id      | name                |\n",
    "| time               | pizza_id            | size               | category            |\n",
    "|                    | quantity            | price              | ingredients         |\n",
    "|                    |                     |                    |                     |\n",
    "| Relationship       | One-to-many (1:N)   | One-to-many (1:N)  | Many-to-one (N:1)  |"
   ]
  },
  {
   "cell_type": "markdown",
   "id": "740e83c7",
   "metadata": {
    "papermill": {
     "duration": 0.011447,
     "end_time": "2024-04-08T21:02:06.453408",
     "exception": false,
     "start_time": "2024-04-08T21:02:06.441961",
     "status": "completed"
    },
    "tags": []
   },
   "source": [
    "## Summaries for each table"
   ]
  },
  {
   "cell_type": "code",
   "execution_count": 3,
   "id": "cf68d424",
   "metadata": {
    "execution": {
     "iopub.execute_input": "2024-04-08T21:02:06.479360Z",
     "iopub.status.busy": "2024-04-08T21:02:06.478982Z",
     "iopub.status.idle": "2024-04-08T21:02:06.519256Z",
     "shell.execute_reply": "2024-04-08T21:02:06.517735Z"
    },
    "papermill": {
     "duration": 0.056264,
     "end_time": "2024-04-08T21:02:06.522177",
     "exception": false,
     "start_time": "2024-04-08T21:02:06.465913",
     "status": "completed"
    },
    "tags": []
   },
   "outputs": [
    {
     "name": "stdout",
     "output_type": "stream",
     "text": [
      "Summaries for each table: \n"
     ]
    },
    {
     "data": {
      "text/plain": [
       "{'orders_sum': {'total_orders': 21350,\n",
       "  'date_range_for_orders': (Timestamp('2015-01-01 00:00:00'),\n",
       "   Timestamp('2015-12-31 00:00:00'))},\n",
       " 'order_details_sum': {'total_items_sold': 49574,\n",
       "  'most_popular_pizza': 'big_meat_s'},\n",
       " 'pizza_types_sum': {'number_of_pizza_types': 32,\n",
       "  'pizza_categories': array(['Chicken', 'Classic', 'Supreme', 'Veggie'], dtype=object)},\n",
       " 'pizzas_sum': {'price_range': (9.75, 35.95)}}"
      ]
     },
     "execution_count": 3,
     "metadata": {},
     "output_type": "execute_result"
    }
   ],
   "source": [
    "orders_sum = {\n",
    "    'total_orders': orders['order_id'].nunique(),\n",
    "    'date_range_for_orders': (orders['date'].min(), orders['date'].max())\n",
    "}\n",
    "\n",
    "order_details_sum = {\n",
    "    'total_items_sold': order_details['quantity'].sum(),\n",
    "    'most_popular_pizza': order_details.groupby('pizza_id')['quantity'].sum().idxmax()\n",
    "}\n",
    "\n",
    "pizza_types_sum = {\n",
    "    'number_of_pizza_types': pizza_types['pizza_type_id'].nunique(),\n",
    "    'pizza_categories': pizza_types['category'].unique()\n",
    "}\n",
    "\n",
    "pizzas_sum = {\n",
    "    'price_range': (pizzas['price'].min(), pizzas['price'].max())\n",
    "}\n",
    "\n",
    "print('Summaries for each table: ')\n",
    "{\n",
    "    \"orders_sum\": orders_sum,\n",
    "    \"order_details_sum\": order_details_sum,\n",
    "    \"pizza_types_sum\": pizza_types_sum,\n",
    "    \"pizzas_sum\": pizzas_sum\n",
    "}\n"
   ]
  },
  {
   "cell_type": "markdown",
   "id": "941e2ead",
   "metadata": {
    "papermill": {
     "duration": 0.015096,
     "end_time": "2024-04-08T21:02:06.551335",
     "exception": false,
     "start_time": "2024-04-08T21:02:06.536239",
     "status": "completed"
    },
    "tags": []
   },
   "source": [
    "## Parse ingredients from 'pizza_types' and find out which one is most used"
   ]
  },
  {
   "cell_type": "code",
   "execution_count": 4,
   "id": "969d0c8e",
   "metadata": {
    "execution": {
     "iopub.execute_input": "2024-04-08T21:02:06.578942Z",
     "iopub.status.busy": "2024-04-08T21:02:06.578142Z",
     "iopub.status.idle": "2024-04-08T21:02:06.590063Z",
     "shell.execute_reply": "2024-04-08T21:02:06.588733Z"
    },
    "papermill": {
     "duration": 0.028714,
     "end_time": "2024-04-08T21:02:06.592772",
     "exception": false,
     "start_time": "2024-04-08T21:02:06.564058",
     "status": "completed"
    },
    "tags": []
   },
   "outputs": [
    {
     "data": {
      "text/plain": [
       "[('Garlic', 17)]"
      ]
     },
     "execution_count": 4,
     "metadata": {},
     "output_type": "execute_result"
    }
   ],
   "source": [
    "ingr = pizza_types['ingredients'].str.split(', ').sum()\n",
    "ingr_count = {}\n",
    "\n",
    "for ingredient in ingr:\n",
    "    if ingredient in ingr_count:\n",
    "        ingr_count[ingredient] += 1\n",
    "    else:\n",
    "        ingr_count[ingredient] = 1\n",
    "\n",
    "most_used_ingr = max(ingr_count.items(), key = lambda x: x[1])\n",
    "\n",
    "most_used_ingr = [most_used_ingr]\n",
    "\n",
    "most_used_ingr"
   ]
  },
  {
   "cell_type": "markdown",
   "id": "f9e1e413",
   "metadata": {
    "papermill": {
     "duration": 0.012153,
     "end_time": "2024-04-08T21:02:06.617512",
     "exception": false,
     "start_time": "2024-04-08T21:02:06.605359",
     "status": "completed"
    },
    "tags": []
   },
   "source": [
    "* Garlic is the most used ingredient, present in 17 pizza types."
   ]
  },
  {
   "cell_type": "markdown",
   "id": "06e7f999",
   "metadata": {
    "papermill": {
     "duration": 0.014578,
     "end_time": "2024-04-08T21:02:06.645452",
     "exception": false,
     "start_time": "2024-04-08T21:02:06.630874",
     "status": "completed"
    },
    "tags": []
   },
   "source": [
    "## Number of cheese types "
   ]
  },
  {
   "cell_type": "code",
   "execution_count": 5,
   "id": "8ab8f460",
   "metadata": {
    "execution": {
     "iopub.execute_input": "2024-04-08T21:02:06.678564Z",
     "iopub.status.busy": "2024-04-08T21:02:06.677770Z",
     "iopub.status.idle": "2024-04-08T21:02:06.685175Z",
     "shell.execute_reply": "2024-04-08T21:02:06.683823Z"
    },
    "papermill": {
     "duration": 0.027639,
     "end_time": "2024-04-08T21:02:06.687996",
     "exception": false,
     "start_time": "2024-04-08T21:02:06.660357",
     "status": "completed"
    },
    "tags": []
   },
   "outputs": [
    {
     "name": "stdout",
     "output_type": "stream",
     "text": [
      "Number of cheese types:  16 \n",
      "\n",
      "['Fontina Cheese', 'Gouda Cheese', 'Asiago Cheese', 'Mozzarella Cheese', 'Tomatoes; Goat Cheese', 'Feta Cheese', 'Brie Carre Cheese', 'Mozarella Cheese', 'Goat Cheese', 'Provolone Cheese', 'Smoked Gouda Cheese', 'Romano Cheese', 'Blue Cheese', 'Ricotta Cheese', 'Gorgonzola Piccante Cheese', 'Parmigiano Reggiano Cheese']\n"
     ]
    }
   ],
   "source": [
    "cheese_types = [ingr for ingr in ingr_count if 'cheese' in ingr.lower()]\n",
    "\n",
    "print('Number of cheese types: ', len(cheese_types), '\\n')\n",
    "print(cheese_types)"
   ]
  },
  {
   "cell_type": "markdown",
   "id": "96d91de0",
   "metadata": {
    "papermill": {
     "duration": 0.012928,
     "end_time": "2024-04-08T21:02:06.713410",
     "exception": false,
     "start_time": "2024-04-08T21:02:06.700482",
     "status": "completed"
    },
    "tags": []
   },
   "source": [
    "## Pizza of each type and size sold "
   ]
  },
  {
   "cell_type": "code",
   "execution_count": 6,
   "id": "5cb9cf99",
   "metadata": {
    "execution": {
     "iopub.execute_input": "2024-04-08T21:02:06.740999Z",
     "iopub.status.busy": "2024-04-08T21:02:06.740143Z",
     "iopub.status.idle": "2024-04-08T21:02:06.803570Z",
     "shell.execute_reply": "2024-04-08T21:02:06.802337Z"
    },
    "papermill": {
     "duration": 0.080005,
     "end_time": "2024-04-08T21:02:06.806264",
     "exception": false,
     "start_time": "2024-04-08T21:02:06.726259",
     "status": "completed"
    },
    "tags": []
   },
   "outputs": [
    {
     "data": {
      "text/html": [
       "<div>\n",
       "<style scoped>\n",
       "    .dataframe tbody tr th:only-of-type {\n",
       "        vertical-align: middle;\n",
       "    }\n",
       "\n",
       "    .dataframe tbody tr th {\n",
       "        vertical-align: top;\n",
       "    }\n",
       "\n",
       "    .dataframe thead th {\n",
       "        text-align: right;\n",
       "    }\n",
       "</style>\n",
       "<table border=\"1\" class=\"dataframe\">\n",
       "  <thead>\n",
       "    <tr style=\"text-align: right;\">\n",
       "      <th></th>\n",
       "      <th>pizza_type_id</th>\n",
       "      <th>size</th>\n",
       "      <th>quantity</th>\n",
       "    </tr>\n",
       "  </thead>\n",
       "  <tbody>\n",
       "    <tr>\n",
       "      <th>0</th>\n",
       "      <td>bbq_ckn</td>\n",
       "      <td>L</td>\n",
       "      <td>992</td>\n",
       "    </tr>\n",
       "    <tr>\n",
       "      <th>1</th>\n",
       "      <td>bbq_ckn</td>\n",
       "      <td>M</td>\n",
       "      <td>956</td>\n",
       "    </tr>\n",
       "    <tr>\n",
       "      <th>2</th>\n",
       "      <td>bbq_ckn</td>\n",
       "      <td>S</td>\n",
       "      <td>484</td>\n",
       "    </tr>\n",
       "    <tr>\n",
       "      <th>3</th>\n",
       "      <td>big_meat</td>\n",
       "      <td>S</td>\n",
       "      <td>1914</td>\n",
       "    </tr>\n",
       "    <tr>\n",
       "      <th>4</th>\n",
       "      <td>brie_carre</td>\n",
       "      <td>S</td>\n",
       "      <td>490</td>\n",
       "    </tr>\n",
       "    <tr>\n",
       "      <th>...</th>\n",
       "      <td>...</td>\n",
       "      <td>...</td>\n",
       "      <td>...</td>\n",
       "    </tr>\n",
       "    <tr>\n",
       "      <th>86</th>\n",
       "      <td>the_greek</td>\n",
       "      <td>XL</td>\n",
       "      <td>552</td>\n",
       "    </tr>\n",
       "    <tr>\n",
       "      <th>87</th>\n",
       "      <td>the_greek</td>\n",
       "      <td>XXL</td>\n",
       "      <td>28</td>\n",
       "    </tr>\n",
       "    <tr>\n",
       "      <th>88</th>\n",
       "      <td>veggie_veg</td>\n",
       "      <td>L</td>\n",
       "      <td>427</td>\n",
       "    </tr>\n",
       "    <tr>\n",
       "      <th>89</th>\n",
       "      <td>veggie_veg</td>\n",
       "      <td>M</td>\n",
       "      <td>635</td>\n",
       "    </tr>\n",
       "    <tr>\n",
       "      <th>90</th>\n",
       "      <td>veggie_veg</td>\n",
       "      <td>S</td>\n",
       "      <td>464</td>\n",
       "    </tr>\n",
       "  </tbody>\n",
       "</table>\n",
       "<p>91 rows × 3 columns</p>\n",
       "</div>"
      ],
      "text/plain": [
       "   pizza_type_id size  quantity\n",
       "0        bbq_ckn    L       992\n",
       "1        bbq_ckn    M       956\n",
       "2        bbq_ckn    S       484\n",
       "3       big_meat    S      1914\n",
       "4     brie_carre    S       490\n",
       "..           ...  ...       ...\n",
       "86     the_greek   XL       552\n",
       "87     the_greek  XXL        28\n",
       "88    veggie_veg    L       427\n",
       "89    veggie_veg    M       635\n",
       "90    veggie_veg    S       464\n",
       "\n",
       "[91 rows x 3 columns]"
      ]
     },
     "execution_count": 6,
     "metadata": {},
     "output_type": "execute_result"
    }
   ],
   "source": [
    "# merge order_details and pizzas df on pizza_id (common feature)\n",
    "combined = order_details.merge(pizzas, on = 'pizza_id')\n",
    "#print(combined)\n",
    "\n",
    "# group by pizza_type_id and size, then sum the quantity to find the total quantity of pizzas sold for each pizza type and size combination\n",
    "pizza_sold = combined.groupby(['pizza_type_id', 'size'])['quantity'].sum()\n",
    "\n",
    "pizza_sold = pizza_sold.reset_index()\n",
    "\n",
    "pizza_sold"
   ]
  },
  {
   "cell_type": "markdown",
   "id": "e507717d",
   "metadata": {
    "papermill": {
     "duration": 0.013978,
     "end_time": "2024-04-08T21:02:06.835187",
     "exception": false,
     "start_time": "2024-04-08T21:02:06.821209",
     "status": "completed"
    },
    "tags": []
   },
   "source": [
    "## Top 5 most ordered pizza"
   ]
  },
  {
   "cell_type": "code",
   "execution_count": 7,
   "id": "a94a1787",
   "metadata": {
    "execution": {
     "iopub.execute_input": "2024-04-08T21:02:06.863283Z",
     "iopub.status.busy": "2024-04-08T21:02:06.862430Z",
     "iopub.status.idle": "2024-04-08T21:02:06.923759Z",
     "shell.execute_reply": "2024-04-08T21:02:06.922531Z"
    },
    "papermill": {
     "duration": 0.078417,
     "end_time": "2024-04-08T21:02:06.926438",
     "exception": false,
     "start_time": "2024-04-08T21:02:06.848021",
     "status": "completed"
    },
    "tags": []
   },
   "outputs": [
    {
     "data": {
      "text/html": [
       "<div>\n",
       "<style scoped>\n",
       "    .dataframe tbody tr th:only-of-type {\n",
       "        vertical-align: middle;\n",
       "    }\n",
       "\n",
       "    .dataframe tbody tr th {\n",
       "        vertical-align: top;\n",
       "    }\n",
       "\n",
       "    .dataframe thead th {\n",
       "        text-align: right;\n",
       "    }\n",
       "</style>\n",
       "<table border=\"1\" class=\"dataframe\">\n",
       "  <thead>\n",
       "    <tr style=\"text-align: right;\">\n",
       "      <th></th>\n",
       "      <th>pizza_type_id</th>\n",
       "      <th>size</th>\n",
       "      <th>quantity</th>\n",
       "      <th>name</th>\n",
       "      <th>category</th>\n",
       "      <th>ingredients</th>\n",
       "    </tr>\n",
       "  </thead>\n",
       "  <tbody>\n",
       "    <tr>\n",
       "      <th>0</th>\n",
       "      <td>big_meat</td>\n",
       "      <td>S</td>\n",
       "      <td>1914</td>\n",
       "      <td>The Big Meat Pizza</td>\n",
       "      <td>Classic</td>\n",
       "      <td>Bacon, pepperoni, Italian Sausage, Chorizo Sau...</td>\n",
       "    </tr>\n",
       "    <tr>\n",
       "      <th>1</th>\n",
       "      <td>thai_ckn</td>\n",
       "      <td>L</td>\n",
       "      <td>1410</td>\n",
       "      <td>The Thai Chicken Pizza</td>\n",
       "      <td>Chicken</td>\n",
       "      <td>Chicken, Pineapple, Tomatoes, Red Peppers, Tha...</td>\n",
       "    </tr>\n",
       "    <tr>\n",
       "      <th>2</th>\n",
       "      <td>five_cheese</td>\n",
       "      <td>L</td>\n",
       "      <td>1409</td>\n",
       "      <td>The Five Cheese Pizza</td>\n",
       "      <td>Veggie</td>\n",
       "      <td>Mozzarella Cheese, Provolone Cheese, Smoked Go...</td>\n",
       "    </tr>\n",
       "    <tr>\n",
       "      <th>3</th>\n",
       "      <td>four_cheese</td>\n",
       "      <td>L</td>\n",
       "      <td>1316</td>\n",
       "      <td>The Four Cheese Pizza</td>\n",
       "      <td>Veggie</td>\n",
       "      <td>Ricotta Cheese, Gorgonzola Piccante Cheese, Mo...</td>\n",
       "    </tr>\n",
       "    <tr>\n",
       "      <th>4</th>\n",
       "      <td>classic_dlx</td>\n",
       "      <td>M</td>\n",
       "      <td>1181</td>\n",
       "      <td>The Classic Deluxe Pizza</td>\n",
       "      <td>Classic</td>\n",
       "      <td>Pepperoni, Mushrooms, Red Onions, Red Peppers,...</td>\n",
       "    </tr>\n",
       "  </tbody>\n",
       "</table>\n",
       "</div>"
      ],
      "text/plain": [
       "  pizza_type_id size  quantity                      name category  \\\n",
       "0      big_meat    S      1914        The Big Meat Pizza  Classic   \n",
       "1      thai_ckn    L      1410    The Thai Chicken Pizza  Chicken   \n",
       "2   five_cheese    L      1409     The Five Cheese Pizza   Veggie   \n",
       "3   four_cheese    L      1316     The Four Cheese Pizza   Veggie   \n",
       "4   classic_dlx    M      1181  The Classic Deluxe Pizza  Classic   \n",
       "\n",
       "                                         ingredients  \n",
       "0  Bacon, pepperoni, Italian Sausage, Chorizo Sau...  \n",
       "1  Chicken, Pineapple, Tomatoes, Red Peppers, Tha...  \n",
       "2  Mozzarella Cheese, Provolone Cheese, Smoked Go...  \n",
       "3  Ricotta Cheese, Gorgonzola Piccante Cheese, Mo...  \n",
       "4  Pepperoni, Mushrooms, Red Onions, Red Peppers,...  "
      ]
     },
     "execution_count": 7,
     "metadata": {},
     "output_type": "execute_result"
    }
   ],
   "source": [
    "# merge order_details and pizzas df on pizza_id\n",
    "combined = order_details.merge(pizzas, on='pizza_id')\n",
    "\n",
    "# find the total quantity of pizzas sold for each combination of pizza type and size:\n",
    "# group by pizza_type_id and size\n",
    "# add up all the individual quantities of pizzas sold\n",
    "top_5 = combined.groupby(['pizza_type_id', 'size'])['quantity'].sum().nlargest(5).reset_index()\n",
    "\n",
    "# merge top_5 with pizza_types df to get pizza names\n",
    "top_5_names = top_5.merge(pizza_types, on = 'pizza_type_id')\n",
    "\n",
    "top_5_names"
   ]
  },
  {
   "cell_type": "markdown",
   "id": "a7603cc2",
   "metadata": {
    "papermill": {
     "duration": 0.013336,
     "end_time": "2024-04-08T21:02:06.953341",
     "exception": false,
     "start_time": "2024-04-08T21:02:06.940005",
     "status": "completed"
    },
    "tags": []
   },
   "source": [
    "## Pizza never sold in 2015"
   ]
  },
  {
   "cell_type": "code",
   "execution_count": 8,
   "id": "bdce0007",
   "metadata": {
    "execution": {
     "iopub.execute_input": "2024-04-08T21:02:06.985828Z",
     "iopub.status.busy": "2024-04-08T21:02:06.985009Z",
     "iopub.status.idle": "2024-04-08T21:02:07.000625Z",
     "shell.execute_reply": "2024-04-08T21:02:06.999392Z"
    },
    "papermill": {
     "duration": 0.03343,
     "end_time": "2024-04-08T21:02:07.003280",
     "exception": false,
     "start_time": "2024-04-08T21:02:06.969850",
     "status": "completed"
    },
    "tags": []
   },
   "outputs": [
    {
     "data": {
      "text/plain": [
       "{'big_meat_l', 'big_meat_m', 'five_cheese_m', 'five_cheese_s', 'four_cheese_s'}"
      ]
     },
     "execution_count": 8,
     "metadata": {},
     "output_type": "execute_result"
    }
   ],
   "source": [
    "all_pizzas = set(pizzas['pizza_id']) # set containing all unique pizza id's available in the pizzas df\n",
    "sold_pizzas = set(order_details['pizza_id'])\n",
    "never_sold_p = all_pizzas - sold_pizzas\n",
    "\n",
    "never_sold_p"
   ]
  },
  {
   "cell_type": "markdown",
   "id": "8f979420",
   "metadata": {
    "papermill": {
     "duration": 0.014304,
     "end_time": "2024-04-08T21:02:07.031588",
     "exception": false,
     "start_time": "2024-04-08T21:02:07.017284",
     "status": "completed"
    },
    "tags": []
   },
   "source": [
    "## Summary statistics for pizza prices for each size category"
   ]
  },
  {
   "cell_type": "code",
   "execution_count": 9,
   "id": "534024b7",
   "metadata": {
    "execution": {
     "iopub.execute_input": "2024-04-08T21:02:07.061754Z",
     "iopub.status.busy": "2024-04-08T21:02:07.061306Z",
     "iopub.status.idle": "2024-04-08T21:02:07.108768Z",
     "shell.execute_reply": "2024-04-08T21:02:07.107482Z"
    },
    "papermill": {
     "duration": 0.066097,
     "end_time": "2024-04-08T21:02:07.111598",
     "exception": false,
     "start_time": "2024-04-08T21:02:07.045501",
     "status": "completed"
    },
    "tags": []
   },
   "outputs": [
    {
     "data": {
      "text/html": [
       "<div>\n",
       "<style scoped>\n",
       "    .dataframe tbody tr th:only-of-type {\n",
       "        vertical-align: middle;\n",
       "    }\n",
       "\n",
       "    .dataframe tbody tr th {\n",
       "        vertical-align: top;\n",
       "    }\n",
       "\n",
       "    .dataframe thead th {\n",
       "        text-align: right;\n",
       "    }\n",
       "</style>\n",
       "<table border=\"1\" class=\"dataframe\">\n",
       "  <thead>\n",
       "    <tr style=\"text-align: right;\">\n",
       "      <th></th>\n",
       "      <th>size</th>\n",
       "      <th>mean</th>\n",
       "      <th>min</th>\n",
       "      <th>max</th>\n",
       "    </tr>\n",
       "  </thead>\n",
       "  <tbody>\n",
       "    <tr>\n",
       "      <th>0</th>\n",
       "      <td>L</td>\n",
       "      <td>20.022581</td>\n",
       "      <td>15.25</td>\n",
       "      <td>21.00</td>\n",
       "    </tr>\n",
       "    <tr>\n",
       "      <th>1</th>\n",
       "      <td>M</td>\n",
       "      <td>15.991935</td>\n",
       "      <td>12.50</td>\n",
       "      <td>16.75</td>\n",
       "    </tr>\n",
       "    <tr>\n",
       "      <th>2</th>\n",
       "      <td>S</td>\n",
       "      <td>12.512500</td>\n",
       "      <td>9.75</td>\n",
       "      <td>23.65</td>\n",
       "    </tr>\n",
       "    <tr>\n",
       "      <th>3</th>\n",
       "      <td>XL</td>\n",
       "      <td>25.500000</td>\n",
       "      <td>25.50</td>\n",
       "      <td>25.50</td>\n",
       "    </tr>\n",
       "    <tr>\n",
       "      <th>4</th>\n",
       "      <td>XXL</td>\n",
       "      <td>35.950000</td>\n",
       "      <td>35.95</td>\n",
       "      <td>35.95</td>\n",
       "    </tr>\n",
       "  </tbody>\n",
       "</table>\n",
       "</div>"
      ],
      "text/plain": [
       "  size       mean    min    max\n",
       "0    L  20.022581  15.25  21.00\n",
       "1    M  15.991935  12.50  16.75\n",
       "2    S  12.512500   9.75  23.65\n",
       "3   XL  25.500000  25.50  25.50\n",
       "4  XXL  35.950000  35.95  35.95"
      ]
     },
     "execution_count": 9,
     "metadata": {},
     "output_type": "execute_result"
    }
   ],
   "source": [
    "# calculate revenue: merge order_details with pizzas -> to get price info\n",
    "order_details_with_price = order_details.merge(pizzas[['pizza_id', 'price']], on = 'pizza_id')\n",
    "\n",
    "order_details_with_price['revenue'] =  order_details_with_price['quantity'] * order_details_with_price['price']\n",
    "\n",
    "#print(order_details_with_price['revenue'], '\\n'*2)\n",
    "\n",
    "# calculate price statistics for different pizza sizes:\n",
    "# group the pizza of same size together, \n",
    "# apply aggregation function to the price column within each size group\n",
    "price_stats = pizzas.groupby('size')['price'].agg(['mean', 'min', 'max']).reset_index()\n",
    "\n",
    "price_stats"
   ]
  },
  {
   "cell_type": "markdown",
   "id": "40fcfa65",
   "metadata": {
    "papermill": {
     "duration": 0.014517,
     "end_time": "2024-04-08T21:02:07.141444",
     "exception": false,
     "start_time": "2024-04-08T21:02:07.126927",
     "status": "completed"
    },
    "tags": []
   },
   "source": [
    "## Distribution of prices"
   ]
  },
  {
   "cell_type": "code",
   "execution_count": 10,
   "id": "4f6506fc",
   "metadata": {
    "execution": {
     "iopub.execute_input": "2024-04-08T21:02:07.174725Z",
     "iopub.status.busy": "2024-04-08T21:02:07.172919Z",
     "iopub.status.idle": "2024-04-08T21:02:09.668317Z",
     "shell.execute_reply": "2024-04-08T21:02:09.667080Z"
    },
    "papermill": {
     "duration": 2.516785,
     "end_time": "2024-04-08T21:02:09.671902",
     "exception": false,
     "start_time": "2024-04-08T21:02:07.155117",
     "status": "completed"
    },
    "tags": []
   },
   "outputs": [
    {
     "data": {
      "text/plain": [
       "<function matplotlib.pyplot.show(close=None, block=None)>"
      ]
     },
     "execution_count": 10,
     "metadata": {},
     "output_type": "execute_result"
    },
    {
     "data": {
      "image/png": "[encoded data removed]",
      "text/plain": [
       "<Figure size 1200x600 with 1 Axes>"
      ]
     },
     "metadata": {},
     "output_type": "display_data"
    }
   ],
   "source": [
    "import matplotlib.pyplot as plt\n",
    "import seaborn as sns\n",
    "\n",
    "plt.figure(figsize = (12, 6))\n",
    "sns.boxplot(x = 'size', y = 'price', data = pizzas, order = ['S', 'M', 'L', 'XL', 'XXL'])\n",
    "plt.title('Distribution of pizza prices by size')\n",
    "plt.xlabel('Pizza size')\n",
    "plt.ylabel('Price')\n",
    "plt.show"
   ]
  },
  {
   "cell_type": "markdown",
   "id": "efe0c45a",
   "metadata": {
    "papermill": {
     "duration": 0.014321,
     "end_time": "2024-04-08T21:02:09.702163",
     "exception": false,
     "start_time": "2024-04-08T21:02:09.687842",
     "status": "completed"
    },
    "tags": []
   },
   "source": [
    "* Pizza of sizes S, M and L have prices in a specific range, while those of size XL and XXL have the same price regarding their type. Also, as the size of the pizza increases, so does the prices."
   ]
  },
  {
   "cell_type": "markdown",
   "id": "7f21b93a",
   "metadata": {
    "papermill": {
     "duration": 0.014508,
     "end_time": "2024-04-08T21:02:09.732120",
     "exception": false,
     "start_time": "2024-04-08T21:02:09.717612",
     "status": "completed"
    },
    "tags": []
   },
   "source": [
    "## Total revenue generated in 2015"
   ]
  },
  {
   "cell_type": "code",
   "execution_count": 11,
   "id": "f267c6be",
   "metadata": {
    "execution": {
     "iopub.execute_input": "2024-04-08T21:02:09.763536Z",
     "iopub.status.busy": "2024-04-08T21:02:09.762405Z",
     "iopub.status.idle": "2024-04-08T21:02:09.771370Z",
     "shell.execute_reply": "2024-04-08T21:02:09.770071Z"
    },
    "papermill": {
     "duration": 0.027925,
     "end_time": "2024-04-08T21:02:09.774277",
     "exception": false,
     "start_time": "2024-04-08T21:02:09.746352",
     "status": "completed"
    },
    "tags": []
   },
   "outputs": [
    {
     "data": {
      "text/plain": [
       "817860.05"
      ]
     },
     "execution_count": 11,
     "metadata": {},
     "output_type": "execute_result"
    }
   ],
   "source": [
    "total_revenue = order_details_with_price['revenue'].sum()\n",
    "\n",
    "total_revenue"
   ]
  },
  {
   "cell_type": "markdown",
   "id": "67911134",
   "metadata": {
    "papermill": {
     "duration": 0.014029,
     "end_time": "2024-04-08T21:02:09.803545",
     "exception": false,
     "start_time": "2024-04-08T21:02:09.789516",
     "status": "completed"
    },
    "tags": []
   },
   "source": [
    "## Total revenue generated each month of 2015"
   ]
  },
  {
   "cell_type": "code",
   "execution_count": 12,
   "id": "80aa44cd",
   "metadata": {
    "execution": {
     "iopub.execute_input": "2024-04-08T21:02:09.837974Z",
     "iopub.status.busy": "2024-04-08T21:02:09.837497Z",
     "iopub.status.idle": "2024-04-08T21:02:09.893610Z",
     "shell.execute_reply": "2024-04-08T21:02:09.892111Z"
    },
    "papermill": {
     "duration": 0.076797,
     "end_time": "2024-04-08T21:02:09.896699",
     "exception": false,
     "start_time": "2024-04-08T21:02:09.819902",
     "status": "completed"
    },
    "tags": []
   },
   "outputs": [
    {
     "data": {
      "text/plain": [
       "month\n",
       "1     69793.30\n",
       "2     65159.60\n",
       "3     70397.10\n",
       "4     68736.80\n",
       "5     71402.75\n",
       "6     68230.20\n",
       "7     72557.90\n",
       "8     68278.25\n",
       "9     64180.05\n",
       "10    64027.60\n",
       "11    70395.35\n",
       "12    64701.15\n",
       "Name: revenue, dtype: float64"
      ]
     },
     "execution_count": 12,
     "metadata": {},
     "output_type": "execute_result"
    }
   ],
   "source": [
    "orders_revenue = orders.merge(order_details_with_price, on = 'order_id')\n",
    "orders_revenue['date'] = pd.to_datetime(orders_revenue['date'])\n",
    "orders_revenue['month'] = orders_revenue['date'].dt.month\n",
    "\n",
    "monthly_revenue = orders_revenue.groupby('month')['revenue'].sum()\n",
    "\n",
    "monthly_revenue"
   ]
  },
  {
   "cell_type": "markdown",
   "id": "5b4957c1",
   "metadata": {
    "papermill": {
     "duration": 0.0139,
     "end_time": "2024-04-08T21:02:09.925592",
     "exception": false,
     "start_time": "2024-04-08T21:02:09.911692",
     "status": "completed"
    },
    "tags": []
   },
   "source": [
    "## Order frequency visualization over time"
   ]
  },
  {
   "cell_type": "code",
   "execution_count": 13,
   "id": "7569db6b",
   "metadata": {
    "execution": {
     "iopub.execute_input": "2024-04-08T21:02:09.963869Z",
     "iopub.status.busy": "2024-04-08T21:02:09.962988Z",
     "iopub.status.idle": "2024-04-08T21:02:10.525795Z",
     "shell.execute_reply": "2024-04-08T21:02:10.524555Z"
    },
    "papermill": {
     "duration": 0.587467,
     "end_time": "2024-04-08T21:02:10.528576",
     "exception": false,
     "start_time": "2024-04-08T21:02:09.941109",
     "status": "completed"
    },
    "tags": []
   },
   "outputs": [
    {
     "data": {
      "image/png": "[encoded data removed]",
      "text/plain": [
       "<Figure size 1200x600 with 1 Axes>"
      ]
     },
     "metadata": {},
     "output_type": "display_data"
    }
   ],
   "source": [
    "monthly_orders = orders_revenue.groupby('month')['order_id'].nunique()\n",
    "\n",
    "plt.figure(figsize = (12, 6))\n",
    "sns.barplot(x = monthly_orders.index, y = monthly_orders.values, color = 'blue')\n",
    "plt.title('Order frequency by month in 2015')\n",
    "plt.xlabel('Month')\n",
    "plt.ylabel('Number of orders')\n",
    "plt.xticks(ticks = range(12), labels = ['Jan', 'Feb', 'Mar', 'Apr', 'May', 'Jun', 'Jul', 'Aug', 'Sep', 'Oct', 'Nov', 'Dec'], rotation = 45)\n",
    "plt.show()"
   ]
  },
  {
   "cell_type": "markdown",
   "id": "8083d307",
   "metadata": {
    "papermill": {
     "duration": 0.014733,
     "end_time": "2024-04-08T21:02:10.558316",
     "exception": false,
     "start_time": "2024-04-08T21:02:10.543583",
     "status": "completed"
    },
    "tags": []
   },
   "source": [
    "* This visualization aligns with the revenue trends, which means that the more orders are places, inherently, the revenue increases. "
   ]
  },
  {
   "cell_type": "markdown",
   "id": "c2045a69",
   "metadata": {
    "papermill": {
     "duration": 0.015114,
     "end_time": "2024-04-08T21:02:10.588674",
     "exception": false,
     "start_time": "2024-04-08T21:02:10.573560",
     "status": "completed"
    },
    "tags": []
   },
   "source": [
    "## Number of orders handled in a day on average"
   ]
  },
  {
   "cell_type": "code",
   "execution_count": 14,
   "id": "45a80291",
   "metadata": {
    "execution": {
     "iopub.execute_input": "2024-04-08T21:02:10.621386Z",
     "iopub.status.busy": "2024-04-08T21:02:10.620547Z",
     "iopub.status.idle": "2024-04-08T21:02:10.649318Z",
     "shell.execute_reply": "2024-04-08T21:02:10.648074Z"
    },
    "papermill": {
     "duration": 0.047987,
     "end_time": "2024-04-08T21:02:10.651917",
     "exception": false,
     "start_time": "2024-04-08T21:02:10.603930",
     "status": "completed"
    },
    "tags": []
   },
   "outputs": [
    {
     "data": {
      "text/plain": [
       "59.63687150837989"
      ]
     },
     "execution_count": 14,
     "metadata": {},
     "output_type": "execute_result"
    }
   ],
   "source": [
    "orders['date'] = pd.to_datetime(orders['date']) # convert the date to datetime format\n",
    "daily_orders = orders['date'].value_counts()\n",
    "average_daily_orders = daily_orders.mean()\n",
    "\n",
    "average_daily_orders"
   ]
  },
  {
   "cell_type": "code",
   "execution_count": 15,
   "id": "fb255714",
   "metadata": {
    "execution": {
     "iopub.execute_input": "2024-04-08T21:02:10.685292Z",
     "iopub.status.busy": "2024-04-08T21:02:10.684851Z",
     "iopub.status.idle": "2024-04-08T21:02:10.699557Z",
     "shell.execute_reply": "2024-04-08T21:02:10.698251Z"
    },
    "papermill": {
     "duration": 0.034442,
     "end_time": "2024-04-08T21:02:10.702872",
     "exception": false,
     "start_time": "2024-04-08T21:02:10.668430",
     "status": "completed"
    },
    "tags": []
   },
   "outputs": [
    {
     "name": "stdout",
     "output_type": "stream",
     "text": [
      "most_used_ingredient: [('Garlic', 17)]\n",
      "\n",
      "number_of_cheese_types: ['Fontina Cheese', 'Gouda Cheese', 'Asiago Cheese', 'Mozzarella Cheese', 'Tomatoes; Goat Cheese', 'Feta Cheese', 'Brie Carre Cheese', 'Mozarella Cheese', 'Goat Cheese', 'Provolone Cheese', 'Smoked Gouda Cheese', 'Romano Cheese', 'Blue Cheese', 'Ricotta Cheese', 'Gorgonzola Piccante Cheese', 'Parmigiano Reggiano Cheese']\n",
      "\n",
      "cheese_types: ['Fontina Cheese', 'Gouda Cheese', 'Asiago Cheese', 'Mozzarella Cheese', 'Tomatoes; Goat Cheese', 'Feta Cheese', 'Brie Carre Cheese', 'Mozarella Cheese', 'Goat Cheese', 'Provolone Cheese', 'Smoked Gouda Cheese', 'Romano Cheese', 'Blue Cheese', 'Ricotta Cheese', 'Gorgonzola Piccante Cheese', 'Parmigiano Reggiano Cheese']\n",
      "\n",
      "pizza_sales_by_type_and_size:   pizza_type_id size  quantity\n",
      "0       bbq_ckn    L       992\n",
      "1       bbq_ckn    M       956\n",
      "2       bbq_ckn    S       484\n",
      "3      big_meat    S      1914\n",
      "4    brie_carre    S       490\n",
      "\n",
      "top_5_pizzas:   pizza_type_id size  quantity\n",
      "0      big_meat    S      1914\n",
      "1      thai_ckn    L      1410\n",
      "2   five_cheese    L      1409\n",
      "3   four_cheese    L      1316\n",
      "4   classic_dlx    M      1181\n",
      "\n",
      "never_sold_pizzas: ['five_cheese_m', 'big_meat_m', 'four_cheese_s', 'five_cheese_s', 'big_meat_l']\n",
      "\n",
      "price_stats_by_size:   size       mean    min    max\n",
      "0    L  20.022581  15.25  21.00\n",
      "1    M  15.991935  12.50  16.75\n",
      "2    S  12.512500   9.75  23.65\n",
      "3   XL  25.500000  25.50  25.50\n",
      "4  XXL  35.950000  35.95  35.95\n",
      "\n",
      "total_revenue_2015: 817860.05\n",
      "\n",
      "average_orders_per_day: 59.63687150837989\n",
      "\n"
     ]
    }
   ],
   "source": [
    "results_table = {\n",
    "    \"most_used_ingredient\": most_used_ingr,\n",
    "    \"number_of_cheese_types\": cheese_types,\n",
    "    \"cheese_types\": cheese_types,\n",
    "    \"pizza_sales_by_type_and_size\": pizza_sold.head(), \n",
    "    \"top_5_pizzas\": top_5,\n",
    "    \"never_sold_pizzas\": list(never_sold_p),\n",
    "    \"price_stats_by_size\": price_stats,\n",
    "    \"total_revenue_2015\": total_revenue,\n",
    "    \"average_orders_per_day\": average_daily_orders\n",
    "}\n",
    "\n",
    "for key, value in results_table.items():\n",
    "    print(f\"{key}: {value}\\n\")\n"
   ]
  },
  {
   "cell_type": "markdown",
   "id": "ed4a68ab",
   "metadata": {
    "papermill": {
     "duration": 0.015337,
     "end_time": "2024-04-08T21:02:10.734232",
     "exception": false,
     "start_time": "2024-04-08T21:02:10.718895",
     "status": "completed"
    },
    "tags": []
   },
   "source": [
    "## Is there a day of the week that is more crowded?"
   ]
  },
  {
   "cell_type": "code",
   "execution_count": 16,
   "id": "4733474f",
   "metadata": {
    "execution": {
     "iopub.execute_input": "2024-04-08T21:02:10.767383Z",
     "iopub.status.busy": "2024-04-08T21:02:10.766793Z",
     "iopub.status.idle": "2024-04-08T21:02:11.143811Z",
     "shell.execute_reply": "2024-04-08T21:02:11.142077Z"
    },
    "papermill": {
     "duration": 0.397602,
     "end_time": "2024-04-08T21:02:11.147162",
     "exception": false,
     "start_time": "2024-04-08T21:02:10.749560",
     "status": "completed"
    },
    "tags": []
   },
   "outputs": [
    {
     "data": {
      "image/png": "[encoded data removed]",
      "text/plain": [
       "<Figure size 1000x600 with 1 Axes>"
      ]
     },
     "metadata": {},
     "output_type": "display_data"
    }
   ],
   "source": [
    "orders_revenue['week_day'] = orders_revenue['date'].dt.dayofweek\n",
    "week_day_orders = orders_revenue.groupby('week_day')['order_id'].nunique()\n",
    "\n",
    "#print(week_day_orders)\n",
    "\n",
    "plt.figure(figsize = (10, 6))\n",
    "sns.barplot(x = week_day_orders.index, y = week_day_orders.values, color = 'green')\n",
    "plt.title('Orders by day of the week')\n",
    "plt.xlabel('Day of the week')\n",
    "plt.ylabel('Number of orders')\n",
    "plt.xticks(ticks = range(7), labels = ['Mon', 'Tue', 'Wed', 'Thu', 'Fri', 'Sat', 'Sun'])\n",
    "plt.show()"
   ]
  },
  {
   "cell_type": "markdown",
   "id": "b7df9310",
   "metadata": {
    "papermill": {
     "duration": 0.015998,
     "end_time": "2024-04-08T21:02:11.179058",
     "exception": false,
     "start_time": "2024-04-08T21:02:11.163060",
     "status": "completed"
    },
    "tags": []
   },
   "source": [
    "* Friday seems to be the busiest day of the week."
   ]
  },
  {
   "cell_type": "markdown",
   "id": "28fc83cc",
   "metadata": {
    "papermill": {
     "duration": 0.015911,
     "end_time": "2024-04-08T21:02:11.211065",
     "exception": false,
     "start_time": "2024-04-08T21:02:11.195154",
     "status": "completed"
    },
    "tags": []
   },
   "source": [
    "## Is there a day of the week that generated more revenue?"
   ]
  },
  {
   "cell_type": "code",
   "execution_count": 17,
   "id": "6c14f957",
   "metadata": {
    "execution": {
     "iopub.execute_input": "2024-04-08T21:02:11.246472Z",
     "iopub.status.busy": "2024-04-08T21:02:11.245811Z",
     "iopub.status.idle": "2024-04-08T21:02:11.614033Z",
     "shell.execute_reply": "2024-04-08T21:02:11.612746Z"
    },
    "papermill": {
     "duration": 0.391057,
     "end_time": "2024-04-08T21:02:11.618071",
     "exception": false,
     "start_time": "2024-04-08T21:02:11.227014",
     "status": "completed"
    },
    "tags": []
   },
   "outputs": [
    {
     "data": {
      "image/png": "[encoded data removed]",
      "text/plain": [
       "<Figure size 1000x600 with 1 Axes>"
      ]
     },
     "metadata": {},
     "output_type": "display_data"
    }
   ],
   "source": [
    "week_day_revenue = orders_revenue.groupby('week_day')['revenue'].sum()\n",
    "\n",
    "plt.figure(figsize = (10, 6))\n",
    "week_day_revenue.plot(kind = 'bar', color = 'red')\n",
    "plt.title('Revenue by day of the week')\n",
    "plt.xlabel('Day of the week')\n",
    "plt.ylabel('Revenue')\n",
    "plt.xticks(ticks = range(7), labels = ['Mon', 'Tue', 'Wed', 'Thu', 'Fri', 'Sat', 'Sun'], rotation=45)\n",
    "plt.show()"
   ]
  },
  {
   "cell_type": "markdown",
   "id": "8244bcdd",
   "metadata": {
    "papermill": {
     "duration": 0.01893,
     "end_time": "2024-04-08T21:02:11.655966",
     "exception": false,
     "start_time": "2024-04-08T21:02:11.637036",
     "status": "completed"
    },
    "tags": []
   },
   "source": [
    "* As it's the busiest day of the week, Fridays also generate more revenue."
   ]
  },
  {
   "cell_type": "markdown",
   "id": "e5becc70",
   "metadata": {
    "papermill": {
     "duration": 0.016244,
     "end_time": "2024-04-08T21:02:11.688932",
     "exception": false,
     "start_time": "2024-04-08T21:02:11.672688",
     "status": "completed"
    },
    "tags": []
   },
   "source": [
    "## Are there periods of time where the restaurant sold no pizza? Why is that?"
   ]
  },
  {
   "cell_type": "code",
   "execution_count": 18,
   "id": "f0a95d42",
   "metadata": {
    "execution": {
     "iopub.execute_input": "2024-04-08T21:02:11.725787Z",
     "iopub.status.busy": "2024-04-08T21:02:11.725361Z",
     "iopub.status.idle": "2024-04-08T21:02:11.747752Z",
     "shell.execute_reply": "2024-04-08T21:02:11.746373Z"
    },
    "papermill": {
     "duration": 0.044928,
     "end_time": "2024-04-08T21:02:11.750636",
     "exception": false,
     "start_time": "2024-04-08T21:02:11.705708",
     "status": "completed"
    },
    "tags": []
   },
   "outputs": [
    {
     "data": {
      "text/html": [
       "<div>\n",
       "<style scoped>\n",
       "    .dataframe tbody tr th:only-of-type {\n",
       "        vertical-align: middle;\n",
       "    }\n",
       "\n",
       "    .dataframe tbody tr th {\n",
       "        vertical-align: top;\n",
       "    }\n",
       "\n",
       "    .dataframe thead th {\n",
       "        text-align: right;\n",
       "    }\n",
       "</style>\n",
       "<table border=\"1\" class=\"dataframe\">\n",
       "  <thead>\n",
       "    <tr style=\"text-align: right;\">\n",
       "      <th></th>\n",
       "      <th>Days with no orders</th>\n",
       "    </tr>\n",
       "  </thead>\n",
       "  <tbody>\n",
       "    <tr>\n",
       "      <th>0</th>\n",
       "      <td>2015-09-24</td>\n",
       "    </tr>\n",
       "    <tr>\n",
       "      <th>1</th>\n",
       "      <td>2015-09-25</td>\n",
       "    </tr>\n",
       "    <tr>\n",
       "      <th>2</th>\n",
       "      <td>2015-10-05</td>\n",
       "    </tr>\n",
       "    <tr>\n",
       "      <th>3</th>\n",
       "      <td>2015-10-12</td>\n",
       "    </tr>\n",
       "    <tr>\n",
       "      <th>4</th>\n",
       "      <td>2015-10-19</td>\n",
       "    </tr>\n",
       "    <tr>\n",
       "      <th>5</th>\n",
       "      <td>2015-10-26</td>\n",
       "    </tr>\n",
       "    <tr>\n",
       "      <th>6</th>\n",
       "      <td>2015-12-25</td>\n",
       "    </tr>\n",
       "  </tbody>\n",
       "</table>\n",
       "</div>"
      ],
      "text/plain": [
       "  Days with no orders\n",
       "0          2015-09-24\n",
       "1          2015-09-25\n",
       "2          2015-10-05\n",
       "3          2015-10-12\n",
       "4          2015-10-19\n",
       "5          2015-10-26\n",
       "6          2015-12-25"
      ]
     },
     "execution_count": 18,
     "metadata": {},
     "output_type": "execute_result"
    }
   ],
   "source": [
    "# identify days with no orders\n",
    "\n",
    "date_range = pd.date_range(start = '2015-01-01', end = '2015-12-31')\n",
    "\n",
    "# daily orders count\n",
    "daily_orders = orders.groupby('date')['order_id'].nunique()\n",
    "\n",
    "# days with no orders\n",
    "# return a new set containing elements that are present in the date_range set, but not in the daily_orders.index set\n",
    "no_orders_days = date_range.difference(daily_orders.index)\n",
    "\n",
    "no_orders_days_result = pd.DataFrame({'Days with no orders': no_orders_days})\n",
    "\n",
    "no_orders_days_result"
   ]
  },
  {
   "cell_type": "markdown",
   "id": "68f00285",
   "metadata": {
    "papermill": {
     "duration": 0.016531,
     "end_time": "2024-04-08T21:02:11.784506",
     "exception": false,
     "start_time": "2024-04-08T21:02:11.767975",
     "status": "completed"
    },
    "tags": []
   },
   "source": [
    "* Probably sales were absent on these days because the restaurant was close due to bank holidays (as Christmans Day can be observed)."
   ]
  }
 ],
 "metadata": {
  "kaggle": {
   "accelerator": "none",
   "dataSources": [
    {
     "datasetId": 4752663,
     "sourceId": 8057728,
     "sourceType": "datasetVersion"
    }
   ],
   "dockerImageVersionId": 30673,
   "isGpuEnabled": false,
   "isInternetEnabled": true,
   "language": "python",
   "sourceType": "notebook"
  },
  "kernelspec": {
   "display_name": "Python 3",
   "language": "python",
   "name": "python3"
  },
  "language_info": {
   "codemirror_mode": {
    "name": "ipython",
    "version": 3
   },
   "file_extension": ".py",
   "mimetype": "text/x-python",
   "name": "python",
   "nbconvert_exporter": "python",
   "pygments_lexer": "ipython3",
   "version": "3.10.13"
  },
  "papermill": {
   "default_parameters": {},
   "duration": 18.807231,
   "end_time": "2024-04-08T21:02:12.524087",
   "environment_variables": {},
   "exception": null,
   "input_path": "__notebook__.ipynb",
   "output_path": "__notebook__.ipynb",
   "parameters": {},
   "start_time": "2024-04-08T21:01:53.716856",
   "version": "2.5.0"
  }
 },
 "nbformat": 4,
 "nbformat_minor": 5
}
